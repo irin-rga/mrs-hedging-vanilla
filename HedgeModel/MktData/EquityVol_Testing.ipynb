{
 "cells": [
  {
   "cell_type": "code",
   "execution_count": 81,
   "metadata": {},
   "outputs": [
    {
     "name": "stdout",
     "output_type": "stream",
     "text": [
      "The autoreload extension is already loaded. To reload it, use:\n",
      "  %reload_ext autoreload\n"
     ]
    }
   ],
   "source": [
    "import typing  # noqa: N999\n",
    "from datetime import datetime, date\n",
    "from openpyxl import load_workbook\n",
    "import importlib\n",
    "import math\n",
    "\n",
    "from pathlib import Path\n",
    "\n",
    "import pandas as pd\n",
    "from crossasset.helpers.matrix import Matrix\n",
    "from crossasset.market_data.dividend import Dividend\n",
    "from crossasset.market_data.eq_vol import EqVol\n",
    "\n",
    "from equity_vol import EquityVol\n",
    "\n",
    "%load_ext autoreload\n",
    "%autoreload 2"
   ]
  },
  {
   "cell_type": "code",
   "execution_count": 2,
   "metadata": {},
   "outputs": [
    {
     "name": "stdout",
     "output_type": "stream",
     "text": [
      "20241001\n",
      "2024-10-01\n"
     ]
    }
   ],
   "source": [
    "asofdt = datetime(year=2024, month=10, day=1).date()\n",
    "print(asofdt.strftime('%Y%m%d'))\n",
    "\n",
    "my_date_str = '20241001'\n",
    "my_date = datetime.strptime(my_date_str, '%Y%m%d').date()\n",
    "print(my_date)"
   ]
  },
  {
   "cell_type": "code",
   "execution_count": 3,
   "metadata": {},
   "outputs": [
    {
     "name": "stdout",
     "output_type": "stream",
     "text": [
      "It's a date!\n"
     ]
    }
   ],
   "source": [
    "if isinstance(asofdt, date):\n",
    "    print(\"It's a date!\")\n",
    "else:\n",
    "    print(type(asofdt))"
   ]
  },
  {
   "cell_type": "code",
   "execution_count": 56,
   "metadata": {},
   "outputs": [
    {
     "name": "stdout",
     "output_type": "stream",
     "text": [
      "All_Dts A2:A14\n",
      "Expiry_Dts A3:A14\n",
      "Strikes B2:N2\n",
      "Full_IV_Matrix A2:N14\n",
      "IV_Data B13:N14\n",
      "YC_DFs S3:S14\n",
      "Dvd_Rts R3:R14\n"
     ]
    }
   ],
   "source": [
    "idx_name = 'SPX Index'\n",
    "idx_spot = 5708.75\n",
    "\n",
    "spx_vol = EquityVol(my_date_str, idx_name, idx_spot)"
   ]
  },
  {
   "cell_type": "code",
   "execution_count": 35,
   "metadata": {},
   "outputs": [
    {
     "data": {
      "text/plain": [
       "(WindowsPath('//rgare.net/stlfinmkts/MarketRiskMgmt/Market Hedge VA/Markit Vol Surface/Markit_Vol_Surface_20241001.xlsx'),\n",
       " 'S&P500',\n",
       " 'A2:A14')"
      ]
     },
     "execution_count": 35,
     "metadata": {},
     "output_type": "execute_result"
    }
   ],
   "source": [
    "vol_file = spx_vol.vol_file\n",
    "vol_sheet = spx_vol.sheet_name\n",
    "all_dts_rng = spx_vol.sheet_rng('All_Dts')\n",
    "vol_file, vol_sheet, all_dts_rng"
   ]
  },
  {
   "cell_type": "code",
   "execution_count": 68,
   "metadata": {},
   "outputs": [],
   "source": [
    "test_excel_data = spx_vol.read_all_excel_data()"
   ]
  },
  {
   "cell_type": "code",
   "execution_count": 59,
   "metadata": {},
   "outputs": [
    {
     "name": "stdout",
     "output_type": "stream",
     "text": [
      "All_Dts [datetime.datetime(2024, 10, 1, 0, 0), datetime.datetime(2024, 10, 18, 0, 0), datetime.datetime(2024, 11, 15, 0, 0), datetime.datetime(2024, 12, 20, 0, 0), datetime.datetime(2025, 3, 21, 0, 0), datetime.datetime(2025, 6, 20, 0, 0), datetime.datetime(2025, 9, 19, 0, 0), datetime.datetime(2025, 12, 19, 0, 0), datetime.datetime(2026, 6, 18, 0, 0), datetime.datetime(2026, 12, 18, 0, 0), datetime.datetime(2027, 6, 17, 0, 0), datetime.datetime(2027, 12, 17, 0, 0), datetime.datetime(2028, 12, 15, 0, 0)]\n",
      "Expiry_Dts [datetime.datetime(2024, 10, 18, 0, 0), datetime.datetime(2024, 11, 15, 0, 0), datetime.datetime(2024, 12, 20, 0, 0), datetime.datetime(2025, 3, 21, 0, 0), datetime.datetime(2025, 6, 20, 0, 0), datetime.datetime(2025, 9, 19, 0, 0), datetime.datetime(2025, 12, 19, 0, 0), datetime.datetime(2026, 6, 18, 0, 0), datetime.datetime(2026, 12, 18, 0, 0), datetime.datetime(2027, 6, 17, 0, 0), datetime.datetime(2027, 12, 17, 0, 0), datetime.datetime(2028, 12, 15, 0, 0)]\n",
      "Strikes [0.5, 0.6, 0.7, 0.8, 0.9, 0.95, 1, 1.05, 1.1, 1.2, 1.3, 1.4, 1.5]\n",
      "Full_IV_Matrix [[datetime.datetime(2024, 10, 1, 0, 0), 0.5, 0.6, 0.7, 0.8, 0.9, 0.95, 1, 1.05, 1.1, 1.2, 1.3, 1.4, 1.5], [datetime.datetime(2024, 10, 18, 0, 0), 0.953103, 0.787468, 0.646137, 0.473625, 0.292159, 0.217288, 0.148067, 0.122752, 0.158574, 0.244186, 0.318221, 0.381887, 0.43893], [datetime.datetime(2024, 11, 15, 0, 0), 0.701133, 0.591494, 0.475368, 0.359608, 0.257581, 0.213465, 0.166292, 0.12827, 0.124887, 0.165824, 0.209237, 0.247403, 0.281726], [datetime.datetime(2024, 12, 20, 0, 0), 0.609615, 0.506926, 0.408643, 0.315539, 0.23672, 0.20011, 0.161411, 0.128793, 0.117472, 0.142312, 0.178586, 0.210842, 0.239317], [datetime.datetime(2025, 3, 21, 0, 0), 0.486975, 0.407423, 0.336336, 0.273843, 0.217115, 0.188867, 0.160581, 0.135758, 0.119679, 0.117567, 0.138173, 0.160195, 0.180106], [datetime.datetime(2025, 6, 20, 0, 0), 0.426447, 0.360265, 0.30261, 0.253617, 0.210379, 0.18789, 0.164622, 0.14253, 0.125441, 0.112472, 0.121867, 0.137258, 0.152337], [datetime.datetime(2025, 9, 19, 0, 0), 0.389208, 0.332337, 0.284947, 0.244739, 0.208406, 0.189643, 0.169678, 0.149902, 0.132524, 0.114245, 0.11571, 0.12614, 0.138012], [datetime.datetime(2025, 12, 19, 0, 0), 0.364584, 0.314833, 0.273383, 0.238305, 0.206534, 0.190163, 0.172998, 0.155763, 0.139775, 0.11913, 0.114937, 0.121016, 0.130271], [datetime.datetime(2026, 6, 18, 0, 0), 0.333528, 0.29334, 0.260113, 0.231919, 0.20481, 0.191238, 0.177216, 0.163219, 0.149976, 0.128359, 0.119154, 0.119691, 0.124025], [datetime.datetime(2026, 12, 18, 0, 0), 0.312626, 0.27777, 0.248125, 0.225293, 0.203389, 0.192276, 0.180544, 0.169199, 0.157413, 0.136723, 0.123901, 0.120304, 0.12052], [datetime.datetime(2027, 6, 17, 0, 0), 0.307161, 0.276349, 0.249229, 0.224821, 0.202531, 0.192073, 0.182048, 0.172463, 0.163348, 0.146804, 0.133322, 0.124084, 0.119494], [datetime.datetime(2027, 12, 17, 0, 0), 0.297906, 0.270065, 0.245255, 0.222844, 0.205543, 0.196761, 0.187564, 0.177262, 0.16814, 0.150999, 0.137866, 0.128653, 0.121711], [datetime.datetime(2028, 12, 15, 0, 0), 0.280299, 0.25858, 0.239551, 0.222492, 0.20694, 0.199626, 0.19258, 0.185777, 0.179198, 0.166654, 0.154875, 0.143856, 0.133677]]\n",
      "IV_Data [[0.297906, 0.270065, 0.245255, 0.222844, 0.205543, 0.196761, 0.187564, 0.177262, 0.16814, 0.150999, 0.137866, 0.128653, 0.121711], [0.280299, 0.25858, 0.239551, 0.222492, 0.20694, 0.199626, 0.19258, 0.185777, 0.179198, 0.166654, 0.154875, 0.143856, 0.133677]]\n",
      "YC_DFs [0.997713, 0.994015, 0.989732, 0.979805, 0.971239, 0.963513, 0.95625, 0.942379, 0.928593, 0.914962, 0.901254, 0.874195]\n",
      "Dvd_Rts [0.003188, 0.0044891, 0.0056815, 0.0053143, 0.0052719, 0.0055348, 0.0056329, 0.0053354, 0.00548, 0.0050849, 0.0048088, 0.0044977]\n"
     ]
    }
   ],
   "source": [
    "for key, val in test_excel_data.items():\n",
    "    print(key, val)"
   ]
  },
  {
   "cell_type": "code",
   "execution_count": 69,
   "metadata": {},
   "outputs": [
    {
     "data": {
      "text/plain": [
       "[1.0,\n",
       " 0.997713,\n",
       " 0.994015,\n",
       " 0.989732,\n",
       " 0.979805,\n",
       " 0.971239,\n",
       " 0.963513,\n",
       " 0.95625,\n",
       " 0.942379,\n",
       " 0.928593,\n",
       " 0.914962,\n",
       " 0.901254,\n",
       " 0.874195]"
      ]
     },
     "execution_count": 69,
     "metadata": {},
     "output_type": "execute_result"
    }
   ],
   "source": [
    "disc_fctrs = test_excel_data['YC_DFs']\n",
    "disc_fctrs.insert(0, 1.0000)\n",
    "disc_fctrs\n"
   ]
  },
  {
   "cell_type": "code",
   "execution_count": null,
   "metadata": {},
   "outputs": [
    {
     "data": {
      "text/plain": [
       "[0.0031829291024914096,\n",
       " 0.005265987044588998,\n",
       " 0.0071907502892823525,\n",
       " 0.004979180837585964,\n",
       " 0.005178796963925092,\n",
       " 0.00627239223402777,\n",
       " 0.005995523214333116,\n",
       " 0.0045954185560713665,\n",
       " 0.005956235649136494,\n",
       " 0.003317522229543268,\n",
       " 0.0033124727436448296,\n",
       " 0.0034905813888080556]"
      ]
     },
     "execution_count": 90,
     "metadata": {},
     "output_type": "execute_result"
    }
   ],
   "source": [
    "# get the dividend data\n",
    "all_dates = test_excel_data['All_Dts']\n",
    "div_dates = test_excel_data[\"Expiry_Dts\"]\n",
    "div_spot_rts = test_excel_data['Dvd_Rts']\n",
    "\n",
    "start_dt = datetime.combine(spx_vol.now_date, datetime.min.time())\n",
    "div_fwd_rts = []\n",
    "div_dates, div_spot_rts\n",
    "\n",
    "exp_times = [(dt - start_dt).days/365.25 for dt in div_dates]\n",
    "cont_spot_rts = [math.log((1+div_spot_rts[t])**exp_times[t])/exp_times[t] for t in range(len(exp_times))]\n",
    "# all_times = [(dt - start_dt).days/365.25 for dt in div_dates]\n",
    "dvd_accum_fctrs = [math.exp(cont_spot_rts[t]*exp_times[t]) for t in range(len(exp_times))]\n",
    "dvd_accum_fctrs.insert(0, 1.0)\n",
    "chg_in_t = [exp_times[t] if t == 0 else exp_times[t]-exp_times[t-1] for t in range(len(exp_times))]\n",
    "div_fwd_rts = [math.log(dvd_accum_fctrs[t+1]/dvd_accum_fctrs[t])/chg_in_t[t] for t in range(len(exp_times))]\n",
    "div_fwd_rts\n",
    "\n",
    "\n",
    "\n",
    "# exp_times\n"
   ]
  },
  {
   "cell_type": "code",
   "execution_count": null,
   "metadata": {},
   "outputs": [
    {
     "data": {
      "text/plain": [
       "[1.0,\n",
       " 1.0001481555180718,\n",
       " 1.0005519864623176,\n",
       " 1.0012416564385715,\n",
       " 1.0024845026247597,\n",
       " 1.0037788114975732,\n",
       " 1.0053486746186626,\n",
       " 1.0068515375433738,\n",
       " 1.0091470172458843,\n",
       " 1.0121630451601502,\n",
       " 1.0138284112142246,\n",
       " 1.0155123956438232,\n",
       " 1.0190511445798198]"
      ]
     },
     "execution_count": 87,
     "metadata": {},
     "output_type": "execute_result"
    }
   ],
   "source": [
    "\n",
    "dvd_accum_fctrs"
   ]
  },
  {
   "cell_type": "code",
   "execution_count": 76,
   "metadata": {},
   "outputs": [
    {
     "data": {
      "text/plain": [
       "datetime.date(2024, 10, 1)"
      ]
     },
     "execution_count": 76,
     "metadata": {},
     "output_type": "execute_result"
    }
   ],
   "source": [
    "spx_vol.now_date"
   ]
  },
  {
   "cell_type": "code",
   "execution_count": 86,
   "metadata": {},
   "outputs": [],
   "source": [
    "dvd_accum_fctrs = [math.exp(cont_spot_rts[t]*exp_times[t]) for t in range(len(exp_times))].insert(0, 1.0)\n",
    "dvd_accum_fctrs\n"
   ]
  },
  {
   "cell_type": "code",
   "execution_count": 74,
   "metadata": {},
   "outputs": [
    {
     "data": {
      "text/plain": [
       "[datetime.datetime(2024, 10, 18, 0, 0),\n",
       " datetime.datetime(2024, 11, 15, 0, 0),\n",
       " datetime.datetime(2024, 12, 20, 0, 0),\n",
       " datetime.datetime(2025, 3, 21, 0, 0),\n",
       " datetime.datetime(2025, 6, 20, 0, 0),\n",
       " datetime.datetime(2025, 9, 19, 0, 0),\n",
       " datetime.datetime(2025, 12, 19, 0, 0),\n",
       " datetime.datetime(2026, 6, 18, 0, 0),\n",
       " datetime.datetime(2026, 12, 18, 0, 0),\n",
       " datetime.datetime(2027, 6, 17, 0, 0),\n",
       " datetime.datetime(2027, 12, 17, 0, 0),\n",
       " datetime.datetime(2028, 12, 15, 0, 0)]"
      ]
     },
     "execution_count": 74,
     "metadata": {},
     "output_type": "execute_result"
    }
   ],
   "source": [
    "test_excel_data[\"Expiry_Dts\"]"
   ]
  },
  {
   "cell_type": "code",
   "execution_count": 55,
   "metadata": {},
   "outputs": [
    {
     "data": {
      "text/plain": [
       "[datetime.datetime(2024, 10, 1, 0, 0),\n",
       " datetime.datetime(2024, 10, 18, 0, 0),\n",
       " datetime.datetime(2024, 11, 15, 0, 0),\n",
       " datetime.datetime(2024, 12, 20, 0, 0),\n",
       " datetime.datetime(2025, 3, 21, 0, 0),\n",
       " datetime.datetime(2025, 6, 20, 0, 0),\n",
       " datetime.datetime(2025, 9, 19, 0, 0),\n",
       " datetime.datetime(2025, 12, 19, 0, 0),\n",
       " datetime.datetime(2026, 6, 18, 0, 0),\n",
       " datetime.datetime(2026, 12, 18, 0, 0),\n",
       " datetime.datetime(2027, 6, 17, 0, 0),\n",
       " datetime.datetime(2027, 12, 17, 0, 0),\n",
       " datetime.datetime(2028, 12, 15, 0, 0)]"
      ]
     },
     "execution_count": 55,
     "metadata": {},
     "output_type": "execute_result"
    }
   ],
   "source": [
    "# test = pd.read_excel(vol_file, vol_sheet, usecols=all_dts_rng)\n",
    "data = None\n",
    "\n",
    "wb = load_workbook(filename=vol_file, read_only=True)\n",
    "ws = wb[vol_sheet]\n",
    "# data = ws[all_dts_rng]\n",
    "\n",
    "\n",
    "# Extract data into a list of lists\n",
    "data = []\n",
    "for row in ws[all_dts_rng]:\n",
    "    row_data = []\n",
    "    for cell in row:\n",
    "        row_data.append(cell.value)\n",
    "    data.append(row_data)\n",
    "\n",
    "# Extract data into 1d\n",
    "data = []\n",
    "for row in ws[all_dts_rng]:    \n",
    "    for cell in row:\n",
    "        data.append(cell.value)\n",
    "    \n",
    "\n",
    "\n",
    "data\n",
    "# for index, item in enumerate(data):\n",
    "#     print(f\"Index: {index}, Value: {item}\")\n",
    "#     for cell in item:\n",
    "#         print(cell.value)"
   ]
  },
  {
   "cell_type": "code",
   "execution_count": null,
   "metadata": {},
   "outputs": [
    {
     "data": {
      "text/plain": [
       "datetime.date(2024, 10, 1)"
      ]
     },
     "execution_count": 31,
     "metadata": {},
     "output_type": "execute_result"
    }
   ],
   "source": [
    "\n"
   ]
  },
  {
   "cell_type": "code",
   "execution_count": null,
   "metadata": {},
   "outputs": [],
   "source": []
  }
 ],
 "metadata": {
  "kernelspec": {
   "display_name": "Python 3",
   "language": "python",
   "name": "python3"
  },
  "language_info": {
   "codemirror_mode": {
    "name": "ipython",
    "version": 3
   },
   "file_extension": ".py",
   "mimetype": "text/x-python",
   "name": "python",
   "nbconvert_exporter": "python",
   "pygments_lexer": "ipython3",
   "version": "3.12.7"
  }
 },
 "nbformat": 4,
 "nbformat_minor": 2
}
