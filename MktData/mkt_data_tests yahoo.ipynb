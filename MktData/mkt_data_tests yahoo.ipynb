{
 "cells": [
  {
   "cell_type": "markdown",
   "metadata": {},
   "source": []
  },
  {
   "cell_type": "code",
   "execution_count": 4,
   "metadata": {},
   "outputs": [],
   "source": [
    "from pandas_datareader import data as pdr\n",
    "import yfinance as yf\n",
    "import datetime as dt\n",
    "import pandas as pd\n"
   ]
  },
  {
   "cell_type": "code",
   "execution_count": 6,
   "metadata": {},
   "outputs": [
    {
     "name": "stdout",
     "output_type": "stream",
     "text": []
    }
   ],
   "source": [
    "symbols = ['^SPX']\n",
    "df = yf.download(symbols)['Adj Close']\n"
   ]
  },
  {
   "cell_type": "code",
   "execution_count": null,
   "metadata": {},
   "outputs": [
    {
     "name": "stdout",
     "output_type": "stream",
     "text": []
    },
    {
     "name": "stdout",
     "output_type": "stream",
     "text": []
    },
    {
     "name": "stdout",
     "output_type": "stream",
     "text": []
    }
   ],
   "source": [
    "\n",
    "\n",
    "##Symbol    Name\n",
    "##^IRX    13 WEEK TREASURY BILL\n",
    "##^FVX    Treasury Yield 5 Years\n",
    "##^TNX    CBOE Interest Rate 10 Year T No\n",
    "##^TYX    Treasury Yield 30 Years\n",
    "# symbols = ['^TYX', '^TNX'] #, '^FVX', '^IRX',  'DX=F', '6E=F', '6J=F', 'ES=F', 'GC=F', 'CL=F']\n",
    "symbols = ['^SPX', '^SPMARC5P', '^NDX']\n",
    "# df = pdr.get_data_yahoo(symbols, start= '2015-01-01', end= dt.datetime.today())['Adj Close']\n",
    "# df = pdr.get_data_yahoo(symbols, period='2y')['Adj Close']\n",
    "\n",
    "# df = yf.download(symbols, period='2y')\n",
    "df = yf.download(symbols)['Adj Close']\n",
    "print(df)"
   ]
  },
  {
   "cell_type": "code",
   "execution_count": 11,
   "metadata": {},
   "outputs": [],
   "source": [
    "marc5 = yf.Ticker('^SPMARC5P')"
   ]
  },
  {
   "cell_type": "code",
   "execution_count": null,
   "metadata": {},
   "outputs": [
    {
     "data": {},
     "execution_count": 12,
     "metadata": {},
     "output_type": "execute_result"
    }
   ],
   "source": [
    "# marc5.info"
   ]
  },
  {
   "cell_type": "code",
   "execution_count": 14,
   "metadata": {},
   "outputs": [
    {
     "data": {},
     "execution_count": 14,
     "metadata": {},
     "output_type": "execute_result"
    }
   ],
   "source": [
    "marc5.history(period='5d')"
   ]
  },
  {
   "cell_type": "code",
   "execution_count": null,
   "metadata": {},
   "outputs": [],
   "source": []
  }
 ],
 "metadata": {
  "kernelspec": {
   "display_name": "Python 3",
   "language": "python",
   "name": "python3"
  },
  "language_info": {
   "codemirror_mode": {
    "name": "ipython",
    "version": 3
   },
   "file_extension": ".py",
   "mimetype": "text/x-python",
   "name": "python",
   "nbconvert_exporter": "python",
   "pygments_lexer": "ipython3",
   "version": "3.12.7"
  }
 },
 "nbformat": 4,
 "nbformat_minor": 2
}
