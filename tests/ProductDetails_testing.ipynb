{
 "cells": [
  {
   "cell_type": "code",
   "execution_count": 1,
   "metadata": {},
   "outputs": [],
   "source": [
    "from mthly_inforce_file import InforceFile\n",
    "from pandas import DataFrame as df\n",
    "from typing import Optional, Union\n",
    "from datetime import datetime, date\n",
    "from pathlib import Path\n",
    "import pandas as pd\n",
    "from os import path\n",
    "import datetime\n",
    "import typing\n",
    "import time\n",
    "import os\n",
    "\n",
    "pd.options.display.float_format = \"{:,.2f}\".format\n",
    "pd.options.mode.copy_on_write = True\n",
    "\n",
    "from mthly_inforce_file import InforceFile\n",
    "\n",
    "%load_ext autoreload\n",
    "%autoreload 2"
   ]
  },
  {
   "cell_type": "code",
   "execution_count": 18,
   "metadata": {},
   "outputs": [],
   "source": [
    "from mthly_product_details import ProductDetails"
   ]
  },
  {
   "cell_type": "code",
   "execution_count": 20,
   "metadata": {},
   "outputs": [
    {
     "name": "stdout",
     "output_type": "stream",
     "text": [
      "Reading in Helper Dataframes (used for static lookups to obtain values for related fields)\n",
      "REMINDER TO UPDATE NEW BUDGET INFO in Static_Assumptions Folder for ProductDetailsByHedgeDate.csv!!!\n",
      "Reading Data from g:\\MarketRiskMgmt\\Pricing Requests\\2024-Orion - IUL Hedging\\RGA_Process\\1_Code\\Static_Assumptions\\HedgeDates.csv\n",
      "Converting Static Assum DataFrame Dates to Datetime.Date\n",
      "Going on the assumption that product details data in C:\\Users\\S0053071\\Repos\\Orion_Process_Backup\\12_2024_RGA_IUL_RATE_FEED.xlsx is consistent with the inforce date of 2024-12-01\n"
     ]
    }
   ],
   "source": [
    "product_details_file_path = r'C:\\Users\\S0053071\\Repos\\Orion_Process_Backup\\12_2024_RGA_IUL_RATE_FEED.xlsx'\n",
    "\n",
    "# FOR TESTING!\n",
    "product_details = ProductDetails(product_details_file_path)"
   ]
  },
  {
   "cell_type": "code",
   "execution_count": 22,
   "metadata": {},
   "outputs": [
    {
     "name": "stdout",
     "output_type": "stream",
     "text": [
      "Importing Product Details xlsx file...\n",
      "Time Reading and Updating Product Details File: 0 mins 0 secs\n"
     ]
    }
   ],
   "source": [
    "prod_details_df = product_details.import_product_details_file()"
   ]
  },
  {
   "cell_type": "code",
   "execution_count": 23,
   "metadata": {},
   "outputs": [
    {
     "data": {
      "text/html": [
       "<div>\n",
       "<style scoped>\n",
       "    .dataframe tbody tr th:only-of-type {\n",
       "        vertical-align: middle;\n",
       "    }\n",
       "\n",
       "    .dataframe tbody tr th {\n",
       "        vertical-align: top;\n",
       "    }\n",
       "\n",
       "    .dataframe thead th {\n",
       "        text-align: right;\n",
       "    }\n",
       "</style>\n",
       "<table border=\"1\" class=\"dataframe\">\n",
       "  <thead>\n",
       "    <tr style=\"text-align: right;\">\n",
       "      <th></th>\n",
       "      <th>HedgeDate</th>\n",
       "      <th>Product_Detail</th>\n",
       "      <th>Indicator</th>\n",
       "      <th>Budget</th>\n",
       "      <th>Cap</th>\n",
       "      <th>Floor</th>\n",
       "      <th>Spec_Rate</th>\n",
       "      <th>Spread</th>\n",
       "      <th>Asset_Charge</th>\n",
       "      <th>Multiplier</th>\n",
       "    </tr>\n",
       "  </thead>\n",
       "  <tbody>\n",
       "    <tr>\n",
       "      <th>0</th>\n",
       "      <td>2023-07-03</td>\n",
       "      <td>IUL08</td>\n",
       "      <td>INDEX</td>\n",
       "      <td>0.05</td>\n",
       "      <td>0.10</td>\n",
       "      <td>0.00</td>\n",
       "      <td>0.00</td>\n",
       "      <td>0.00</td>\n",
       "      <td>0.00</td>\n",
       "      <td>0.00</td>\n",
       "    </tr>\n",
       "    <tr>\n",
       "      <th>1</th>\n",
       "      <td>2023-07-03</td>\n",
       "      <td>IUL14</td>\n",
       "      <td>INDEX</td>\n",
       "      <td>0.05</td>\n",
       "      <td>0.10</td>\n",
       "      <td>0.00</td>\n",
       "      <td>0.00</td>\n",
       "      <td>0.00</td>\n",
       "      <td>0.00</td>\n",
       "      <td>0.00</td>\n",
       "    </tr>\n",
       "    <tr>\n",
       "      <th>2</th>\n",
       "      <td>2023-07-03</td>\n",
       "      <td>IUL14</td>\n",
       "      <td>INX150</td>\n",
       "      <td>0.04</td>\n",
       "      <td>0.09</td>\n",
       "      <td>0.01</td>\n",
       "      <td>0.00</td>\n",
       "      <td>0.00</td>\n",
       "      <td>0.00</td>\n",
       "      <td>0.00</td>\n",
       "    </tr>\n",
       "    <tr>\n",
       "      <th>3</th>\n",
       "      <td>2023-07-03</td>\n",
       "      <td>IUL14</td>\n",
       "      <td>INXFEE</td>\n",
       "      <td>0.03</td>\n",
       "      <td>10.00</td>\n",
       "      <td>0.00</td>\n",
       "      <td>0.00</td>\n",
       "      <td>0.10</td>\n",
       "      <td>0.00</td>\n",
       "      <td>0.00</td>\n",
       "    </tr>\n",
       "    <tr>\n",
       "      <th>4</th>\n",
       "      <td>2023-07-03</td>\n",
       "      <td>IUL14</td>\n",
       "      <td>INXSPC</td>\n",
       "      <td>0.05</td>\n",
       "      <td>10.00</td>\n",
       "      <td>0.00</td>\n",
       "      <td>0.07</td>\n",
       "      <td>0.00</td>\n",
       "      <td>0.00</td>\n",
       "      <td>0.00</td>\n",
       "    </tr>\n",
       "    <tr>\n",
       "      <th>...</th>\n",
       "      <td>...</td>\n",
       "      <td>...</td>\n",
       "      <td>...</td>\n",
       "      <td>...</td>\n",
       "      <td>...</td>\n",
       "      <td>...</td>\n",
       "      <td>...</td>\n",
       "      <td>...</td>\n",
       "      <td>...</td>\n",
       "      <td>...</td>\n",
       "    </tr>\n",
       "    <tr>\n",
       "      <th>767</th>\n",
       "      <td>2025-02-03</td>\n",
       "      <td>IUL14NY</td>\n",
       "      <td>INXSPC</td>\n",
       "      <td>0.00</td>\n",
       "      <td>10.00</td>\n",
       "      <td>0.00</td>\n",
       "      <td>0.07</td>\n",
       "      <td>0.00</td>\n",
       "      <td>0.00</td>\n",
       "      <td>0.00</td>\n",
       "    </tr>\n",
       "    <tr>\n",
       "      <th>768</th>\n",
       "      <td>2025-02-03</td>\n",
       "      <td>IUL14BNY</td>\n",
       "      <td>INDEX</td>\n",
       "      <td>0.00</td>\n",
       "      <td>0.08</td>\n",
       "      <td>0.00</td>\n",
       "      <td>0.00</td>\n",
       "      <td>0.00</td>\n",
       "      <td>0.00</td>\n",
       "      <td>0.00</td>\n",
       "    </tr>\n",
       "    <tr>\n",
       "      <th>769</th>\n",
       "      <td>2025-02-03</td>\n",
       "      <td>IUL14BNY</td>\n",
       "      <td>INX150</td>\n",
       "      <td>0.00</td>\n",
       "      <td>0.06</td>\n",
       "      <td>0.01</td>\n",
       "      <td>0.00</td>\n",
       "      <td>0.00</td>\n",
       "      <td>0.00</td>\n",
       "      <td>0.00</td>\n",
       "    </tr>\n",
       "    <tr>\n",
       "      <th>770</th>\n",
       "      <td>2025-02-03</td>\n",
       "      <td>IUL14BNY</td>\n",
       "      <td>INXFEE</td>\n",
       "      <td>0.00</td>\n",
       "      <td>10.00</td>\n",
       "      <td>0.00</td>\n",
       "      <td>0.00</td>\n",
       "      <td>0.09</td>\n",
       "      <td>0.00</td>\n",
       "      <td>0.00</td>\n",
       "    </tr>\n",
       "    <tr>\n",
       "      <th>771</th>\n",
       "      <td>2025-02-03</td>\n",
       "      <td>IUL14BNY</td>\n",
       "      <td>INXSPC</td>\n",
       "      <td>0.00</td>\n",
       "      <td>10.00</td>\n",
       "      <td>0.00</td>\n",
       "      <td>0.06</td>\n",
       "      <td>0.00</td>\n",
       "      <td>0.00</td>\n",
       "      <td>0.00</td>\n",
       "    </tr>\n",
       "  </tbody>\n",
       "</table>\n",
       "<p>772 rows × 10 columns</p>\n",
       "</div>"
      ],
      "text/plain": [
       "      HedgeDate Product_Detail Indicator  Budget   Cap  Floor  Spec_Rate  \\\n",
       "0    2023-07-03          IUL08     INDEX    0.05  0.10   0.00       0.00   \n",
       "1    2023-07-03          IUL14     INDEX    0.05  0.10   0.00       0.00   \n",
       "2    2023-07-03          IUL14    INX150    0.04  0.09   0.01       0.00   \n",
       "3    2023-07-03          IUL14    INXFEE    0.03 10.00   0.00       0.00   \n",
       "4    2023-07-03          IUL14    INXSPC    0.05 10.00   0.00       0.07   \n",
       "..          ...            ...       ...     ...   ...    ...        ...   \n",
       "767  2025-02-03        IUL14NY    INXSPC    0.00 10.00   0.00       0.07   \n",
       "768  2025-02-03       IUL14BNY     INDEX    0.00  0.08   0.00       0.00   \n",
       "769  2025-02-03       IUL14BNY    INX150    0.00  0.06   0.01       0.00   \n",
       "770  2025-02-03       IUL14BNY    INXFEE    0.00 10.00   0.00       0.00   \n",
       "771  2025-02-03       IUL14BNY    INXSPC    0.00 10.00   0.00       0.06   \n",
       "\n",
       "     Spread  Asset_Charge  Multiplier  \n",
       "0      0.00          0.00        0.00  \n",
       "1      0.00          0.00        0.00  \n",
       "2      0.00          0.00        0.00  \n",
       "3      0.10          0.00        0.00  \n",
       "4      0.00          0.00        0.00  \n",
       "..      ...           ...         ...  \n",
       "767    0.00          0.00        0.00  \n",
       "768    0.00          0.00        0.00  \n",
       "769    0.00          0.00        0.00  \n",
       "770    0.09          0.00        0.00  \n",
       "771    0.00          0.00        0.00  \n",
       "\n",
       "[772 rows x 10 columns]"
      ]
     },
     "execution_count": 23,
     "metadata": {},
     "output_type": "execute_result"
    }
   ],
   "source": [
    "prod_details_df"
   ]
  },
  {
   "cell_type": "code",
   "execution_count": 24,
   "metadata": {},
   "outputs": [
    {
     "name": "stdout",
     "output_type": "stream",
     "text": [
      "Saving ProductDetailsByHedgeDate.csv to: g:\\MarketRiskMgmt\\Pricing Requests\\2024-Orion - IUL Hedging\\RGA_Process\\1_Code\\Static_Assumptions\n"
     ]
    },
    {
     "ename": "AttributeError",
     "evalue": "'NoneType' object has no attribute 'to_csv'",
     "output_type": "error",
     "traceback": [
      "\u001b[1;31m---------------------------------------------------------------------------\u001b[0m",
      "\u001b[1;31mAttributeError\u001b[0m                            Traceback (most recent call last)",
      "Cell \u001b[1;32mIn[24], line 1\u001b[0m\n\u001b[1;32m----> 1\u001b[0m \u001b[43mproduct_details\u001b[49m\u001b[38;5;241;43m.\u001b[39;49m\u001b[43msave_all_results\u001b[49m\u001b[43m(\u001b[49m\u001b[43m)\u001b[49m\n",
      "File \u001b[1;32mg:\\MarketRiskMgmt\\Pricing Requests\\2024-Orion - IUL Hedging\\RGA_Process\\1_Code\\mthly_product_details.py:263\u001b[0m, in \u001b[0;36mProductDetails.save_all_results\u001b[1;34m(self)\u001b[0m\n\u001b[0;32m    260\u001b[0m \u001b[38;5;28;01mif\u001b[39;00m \u001b[38;5;28mself\u001b[39m\u001b[38;5;241m.\u001b[39moutput_path \u001b[38;5;129;01mis\u001b[39;00m \u001b[38;5;28;01mNone\u001b[39;00m:\n\u001b[0;32m    261\u001b[0m     \u001b[38;5;28mself\u001b[39m\u001b[38;5;241m.\u001b[39moutput_path \u001b[38;5;241m=\u001b[39m \u001b[38;5;28mself\u001b[39m\u001b[38;5;241m.\u001b[39mcreate_output_fldr()\n\u001b[1;32m--> 263\u001b[0m \u001b[38;5;28;43mself\u001b[39;49m\u001b[38;5;241;43m.\u001b[39;49m\u001b[43msave_results\u001b[49m\u001b[43m(\u001b[49m\u001b[38;5;124;43m'\u001b[39;49m\u001b[38;5;124;43mProductDetailsByHedgeDate.csv\u001b[39;49m\u001b[38;5;124;43m'\u001b[39;49m\u001b[43m,\u001b[49m\u001b[43m \u001b[49m\u001b[38;5;28;43mself\u001b[39;49m\u001b[38;5;241;43m.\u001b[39;49m\u001b[43mproduct_details_df\u001b[49m\u001b[43m,\u001b[49m\u001b[43m \u001b[49m\u001b[38;5;28;43;01mFalse\u001b[39;49;00m\u001b[43m)\u001b[49m\n",
      "File \u001b[1;32mg:\\MarketRiskMgmt\\Pricing Requests\\2024-Orion - IUL Hedging\\RGA_Process\\1_Code\\mthly_product_details.py:277\u001b[0m, in \u001b[0;36mProductDetails.save_results\u001b[1;34m(self, df_filename, df, keep_idx, idx_lbl)\u001b[0m\n\u001b[0;32m    274\u001b[0m save_start \u001b[38;5;241m=\u001b[39m time\u001b[38;5;241m.\u001b[39mtime()\n\u001b[0;32m    276\u001b[0m \u001b[38;5;28;01mif\u001b[39;00m df_filename\u001b[38;5;241m.\u001b[39mendswith(\u001b[38;5;124m'\u001b[39m\u001b[38;5;124m.csv\u001b[39m\u001b[38;5;124m'\u001b[39m):\n\u001b[1;32m--> 277\u001b[0m     \u001b[43mdf\u001b[49m\u001b[38;5;241;43m.\u001b[39;49m\u001b[43mto_csv\u001b[49m(full_path, index\u001b[38;5;241m=\u001b[39mkeep_idx, index_label\u001b[38;5;241m=\u001b[39midx_lbl)\n\u001b[0;32m    278\u001b[0m \u001b[38;5;28;01melif\u001b[39;00m df_filename\u001b[38;5;241m.\u001b[39mendswith(\u001b[38;5;124m'\u001b[39m\u001b[38;5;124m.xlsx\u001b[39m\u001b[38;5;124m'\u001b[39m):\n\u001b[0;32m    279\u001b[0m     df\u001b[38;5;241m.\u001b[39mto_excel(full_path, index\u001b[38;5;241m=\u001b[39mkeep_idx, index_label\u001b[38;5;241m=\u001b[39midx_lbl)\n",
      "\u001b[1;31mAttributeError\u001b[0m: 'NoneType' object has no attribute 'to_csv'"
     ]
    }
   ],
   "source": [
    "product_details.save_all_results()"
   ]
  },
  {
   "cell_type": "code",
   "execution_count": 26,
   "metadata": {},
   "outputs": [
    {
     "name": "stdout",
     "output_type": "stream",
     "text": [
      "Importing Product Details xlsx file...\n",
      "Time Reading and Updating Product Details File: 0 mins 0 secs\n",
      "Saving ProductDetailsByHedgeDate.csv to: g:\\MarketRiskMgmt\\Pricing Requests\\2024-Orion - IUL Hedging\\RGA_Process\\1_Code\\Static_Assumptions\n",
      "Time spend saving ProductDetailsByHedgeDate.csv: 0 mins 3 secs\n"
     ]
    }
   ],
   "source": [
    "product_details.run_all()"
   ]
  },
  {
   "cell_type": "code",
   "execution_count": null,
   "metadata": {},
   "outputs": [],
   "source": [
    "product_details.save_all_results()"
   ]
  }
 ],
 "metadata": {
  "kernelspec": {
   "display_name": "Python 3",
   "language": "python",
   "name": "python3"
  },
  "language_info": {
   "codemirror_mode": {
    "name": "ipython",
    "version": 3
   },
   "file_extension": ".py",
   "mimetype": "text/x-python",
   "name": "python",
   "nbconvert_exporter": "python",
   "pygments_lexer": "ipython3",
   "version": "3.12.7"
  }
 },
 "nbformat": 4,
 "nbformat_minor": 2
}
